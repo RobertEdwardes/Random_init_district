{
 "cells": [
  {
   "cell_type": "code",
   "execution_count": 65,
   "id": "d89dc43c",
   "metadata": {},
   "outputs": [],
   "source": [
    "import pandas as pd\n",
    "import geopandas as gpd\n",
    "import pyodbc\n",
    "import random as rnd\n",
    "import time"
   ]
  },
  {
   "cell_type": "code",
   "execution_count": 66,
   "id": "8c93e9c9",
   "metadata": {},
   "outputs": [],
   "source": [
    "conn = pyodbc.connect()\n",
    "conn2 = pyodbc.connect()"
   ]
  },
  {
   "cell_type": "code",
   "execution_count": 67,
   "id": "48a0a75e",
   "metadata": {},
   "outputs": [],
   "source": [
    "sql_adj = \"\"\"SELECT [NODE]\n",
    "      ,[EDGE]\n",
    "      ,[State_Boundry]\n",
    "      ,[County_Boundry]\n",
    "  FROM [py].[tabblock20_adjMatrix] a\n",
    "  INNER JOIN dbo.tabblock20 b ON a.NODE = b.GEOID20\n",
    "  INNER JOIN dbo.state20 c ON b.STATEFP20 = c.GEOID20\n",
    "  WHERE c.STUSPS20 = 'MN'\"\"\"\n",
    "\n",
    "sql_data = \"\"\"SELECT [STUSAB]\n",
    "      ,[GEOCODE]\n",
    "      ,[POP100]\n",
    "      ,[HU100]\n",
    "  FROM [vw].[PL2020_BLK]\n",
    "  WHERE STUSAB = 'MN'\"\"\""
   ]
  },
  {
   "cell_type": "code",
   "execution_count": 68,
   "id": "978aa728",
   "metadata": {},
   "outputs": [],
   "source": [
    "adj = pd.read_sql_query(sql_adj,conn)\n",
    "data = pd.read_sql_query(sql_data,conn2)"
   ]
  },
  {
   "cell_type": "code",
   "execution_count": 81,
   "id": "b9d5f219",
   "metadata": {},
   "outputs": [],
   "source": [
    "adj_smp = adj\n",
    "adj_smp['NODE'] = adj['NODE'].str[0:12]\n",
    "adj_smp['EDGE'] = adj['EDGE'].str[0:12]\n",
    "adj_smp = adj_smp.drop_duplicates(subset=['EDGE', 'NODE'])"
   ]
  },
  {
   "cell_type": "code",
   "execution_count": 82,
   "id": "1b0d5ae4",
   "metadata": {},
   "outputs": [
    {
     "data": {
      "text/html": [
       "<div>\n",
       "<style scoped>\n",
       "    .dataframe tbody tr th:only-of-type {\n",
       "        vertical-align: middle;\n",
       "    }\n",
       "\n",
       "    .dataframe tbody tr th {\n",
       "        vertical-align: top;\n",
       "    }\n",
       "\n",
       "    .dataframe thead th {\n",
       "        text-align: right;\n",
       "    }\n",
       "</style>\n",
       "<table border=\"1\" class=\"dataframe\">\n",
       "  <thead>\n",
       "    <tr style=\"text-align: right;\">\n",
       "      <th></th>\n",
       "      <th>NODE</th>\n",
       "      <th>EDGE</th>\n",
       "      <th>State_Boundry</th>\n",
       "      <th>County_Boundry</th>\n",
       "    </tr>\n",
       "  </thead>\n",
       "  <tbody>\n",
       "    <tr>\n",
       "      <th>0</th>\n",
       "      <td>271370140001</td>\n",
       "      <td>271370140001</td>\n",
       "      <td>0</td>\n",
       "      <td>0</td>\n",
       "    </tr>\n",
       "    <tr>\n",
       "      <th>3</th>\n",
       "      <td>271119605001</td>\n",
       "      <td>271119605001</td>\n",
       "      <td>0</td>\n",
       "      <td>0</td>\n",
       "    </tr>\n",
       "    <tr>\n",
       "      <th>4</th>\n",
       "      <td>271119605001</td>\n",
       "      <td>271119604003</td>\n",
       "      <td>0</td>\n",
       "      <td>0</td>\n",
       "    </tr>\n",
       "    <tr>\n",
       "      <th>6</th>\n",
       "      <td>271370113002</td>\n",
       "      <td>271370113002</td>\n",
       "      <td>0</td>\n",
       "      <td>0</td>\n",
       "    </tr>\n",
       "    <tr>\n",
       "      <th>9</th>\n",
       "      <td>270591301004</td>\n",
       "      <td>270591301004</td>\n",
       "      <td>0</td>\n",
       "      <td>0</td>\n",
       "    </tr>\n",
       "  </tbody>\n",
       "</table>\n",
       "</div>"
      ],
      "text/plain": [
       "           NODE          EDGE  State_Boundry  County_Boundry\n",
       "0  271370140001  271370140001              0               0\n",
       "3  271119605001  271119605001              0               0\n",
       "4  271119605001  271119604003              0               0\n",
       "6  271370113002  271370113002              0               0\n",
       "9  270591301004  270591301004              0               0"
      ]
     },
     "execution_count": 82,
     "metadata": {},
     "output_type": "execute_result"
    }
   ],
   "source": [
    "seats = 8\n",
    "adj_smp.head()"
   ]
  },
  {
   "cell_type": "code",
   "execution_count": 83,
   "id": "0a281a88",
   "metadata": {
    "scrolled": false
   },
   "outputs": [
    {
     "name": "stdout",
     "output_type": "stream",
     "text": [
      "1\n",
      "2\n",
      "3\n",
      "4\n",
      "5\n",
      "6\n",
      "7\n",
      "8\n"
     ]
    }
   ],
   "source": [
    "BAF = {i+1:{'BAG':[],'POP':0} for i in range(seats)}\n",
    "target = len(adj_smp.index)*(.1/seats)\n",
    "for k in BAF:\n",
    "    timeout = time.time() + 30\n",
    "    count = 0\n",
    "    NODE_list = adj_smp['NODE'].tolist()\n",
    "    rndC = rnd.choice(NODE_list)\n",
    "    NODE_list.remove(rndC)\n",
    "    df_NODE = adj_smp[adj_smp['NODE'] == rndC]\n",
    "    adj_smp = adj_smp[adj_smp['NODE'] != rndC]\n",
    "    BAF[k]['BAG'].append(rndC)\n",
    "    edgeList_act = df_NODE['EDGE'].tolist()\n",
    "    while count < target:\n",
    "        while len(edgeList_act) == 0:\n",
    "            if len(BAF[k]['BAG']) !=0:\n",
    "                edgeList_adj = BAF[k]['BAG']\n",
    "                next_adj = rnd.choice(edgeList_adj)\n",
    "                df_NODE = adj_smp[adj_smp['EDGE'] == next_adj]\n",
    "                adj_smp = adj_smp[adj_smp['NODE'] != next_adj]\n",
    "                edgeList_act = df_NODE['NODE'].tolist()\n",
    "                if time.time() > timeout:\n",
    "                    BAF[k]['BAG'] = []\n",
    "                    NODE_list = adj_smp['NODE'].tolist()\n",
    "                    rndC = rnd.choice(NODE_list)\n",
    "                    NODE_list.remove(rndC)\n",
    "                    df_NODE = adj_smp[adj_smp['NODE'] == rndC]\n",
    "                    adj_smp = adj_smp[adj_smp['NODE'] != rndC]\n",
    "                    BAF[k]['BAG'].append(rndC)\n",
    "                    timeout = time.time() + 30 \n",
    "                    print(f'{k}-restart')\n",
    "            else:\n",
    "                NODE_list = adj_smp['NODE'].tolist()\n",
    "                rndC = rnd.choice(NODE_list)\n",
    "                NODE_list.remove(rndC)\n",
    "                df_NODE = adj_smp[adj_smp['NODE'] == rndC]\n",
    "                BAF[k]['BAG'].append(rndC)\n",
    "                edgeList_act = df_NODE['EDGE'].tolist()\n",
    "        while len(edgeList_act) > 0:\n",
    "            rndE = rnd.choice(edgeList_act)\n",
    "            edgeList_act.remove(rndE)\n",
    "            df_NODE = df_NODE[df_NODE['NODE'] != rndE]\n",
    "            adj_smp = adj_smp[adj_smp['NODE'] != rndE]\n",
    "            if rndE not in BAF[k]['BAG']:\n",
    "                BAF[k]['BAG'].append(rndE)\n",
    "                count += 1\n",
    "    clean_common = adj_smp[adj_smp['NODE'].isin(BAF[k]['BAG'])]\n",
    "    for i in clean_common['EDGE'].tolist():\n",
    "        if i not in BAF[k]['BAG']:\n",
    "            BAF[k]['BAG'].append(i)\n",
    "        adj_smp = adj_smp[adj_smp['NODE'] != i]\n",
    "        adj_smp = adj_smp[adj_smp['EDGE'] != i]\n",
    "    print(k)"
   ]
  },
  {
   "cell_type": "code",
   "execution_count": 84,
   "id": "c558517d",
   "metadata": {},
   "outputs": [],
   "source": [
    "df = pd.DataFrame.from_dict(BAF, orient='index')"
   ]
  },
  {
   "cell_type": "code",
   "execution_count": 85,
   "id": "c3e68afd",
   "metadata": {},
   "outputs": [],
   "source": [
    "df = df.explode('BAG')"
   ]
  },
  {
   "cell_type": "code",
   "execution_count": 86,
   "id": "f7b3dfb6",
   "metadata": {},
   "outputs": [],
   "source": [
    "df.to_csv('MN_init_CD-3.csv')"
   ]
  },
  {
   "cell_type": "code",
   "execution_count": null,
   "id": "d8728452",
   "metadata": {},
   "outputs": [],
   "source": []
  },
  {
   "cell_type": "code",
   "execution_count": null,
   "id": "cc8f988e",
   "metadata": {},
   "outputs": [],
   "source": []
  },
  {
   "cell_type": "code",
   "execution_count": null,
   "id": "5ea61823",
   "metadata": {},
   "outputs": [],
   "source": []
  },
  {
   "cell_type": "code",
   "execution_count": null,
   "id": "4122b389",
   "metadata": {},
   "outputs": [],
   "source": []
  },
  {
   "cell_type": "code",
   "execution_count": null,
   "id": "4b737b4e",
   "metadata": {},
   "outputs": [],
   "source": []
  },
  {
   "cell_type": "code",
   "execution_count": null,
   "id": "48661d24",
   "metadata": {},
   "outputs": [],
   "source": []
  },
  {
   "cell_type": "code",
   "execution_count": null,
   "id": "df7a71f2",
   "metadata": {},
   "outputs": [],
   "source": []
  }
 ],
 "metadata": {
  "kernelspec": {
   "display_name": "Python 3 (ipykernel)",
   "language": "python",
   "name": "python3"
  },
  "language_info": {
   "codemirror_mode": {
    "name": "ipython",
    "version": 3
   },
   "file_extension": ".py",
   "mimetype": "text/x-python",
   "name": "python",
   "nbconvert_exporter": "python",
   "pygments_lexer": "ipython3",
   "version": "3.8.12"
  }
 },
 "nbformat": 4,
 "nbformat_minor": 5
}
